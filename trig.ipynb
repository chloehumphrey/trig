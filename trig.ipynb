{
 "cells": [
  {
   "attachments": {
    "image.png": {
     "image/png": "[encoded data removed]"
    }
   },
   "cell_type": "markdown",
   "id": "1559888e",
   "metadata": {},
   "source": [
    "# Sentinel Gunshot Localization\n",
    "\n",
    "Time Of Arrival (TOA) localization uses the time of arival of the sound at the detectors to estimate the gunshot's source location. TOA requires sunchronization and accurate TOA estimates.\n",
    "\n",
    "![image.png](attachment:image.png)"
   ]
  },
  {
   "cell_type": "code",
   "execution_count": 5,
   "id": "301547b3",
   "metadata": {},
   "outputs": [],
   "source": [
    "import numpy as np\n",
    "from scipy.optimize import minimize"
   ]
  },
  {
   "attachments": {
    "image.png": {
     "image/png": "[encoded data removed]"
    }
   },
   "cell_type": "markdown",
   "id": "5975af27",
   "metadata": {},
   "source": [
    "#### Objective Function\n",
    "![image.png](attachment:image.png)"
   ]
  },
  {
   "cell_type": "code",
   "execution_count": null,
   "id": "723e60e0",
   "metadata": {},
   "outputs": [],
   "source": [
    "def objective(theta, sensor_positions, toas, speed_of_sound):\n",
    "    \"\"\"\n",
    "    Objective Function:\n",
    "    Computes the sum of squared differences between predicted and measured TOAs.\n",
    "\n",
    "    Parameters:\n",
    "        theta : array [x0, y0, t0]\n",
    "            (x0, y0) - coordinates of the unknown source\n",
    "            t0 - unknown emission time\n",
    "        sensor_positions : array [(xi, yi)]\n",
    "            Sensor positions\n",
    "        toas : array [ti]\n",
    "            Time of arrivals corresponding to each sensor\n",
    "        speed_of_sound : float\n",
    "            Speed of sound (m/s)\n",
    "\n",
    "    Returns: \n",
    "        residuals : float\n",
    "            Sum of squared differences between predicted and measured TOAs\n",
    "    \"\"\"\n",
    "    x0, y0, t0 = theta\n",
    "    residuals = []\n",
    "    for (xi, yi), ti in zip(sensor_positions, toas):\n",
    "        # Calculate distance between unknow source and sensor\n",
    "        distance = np.sqrt((x0 - xi)**2 + (y0 - yi)**2)\n",
    "        # Predict arrival time = emmission time + travel time (distance / speed_of_sound)\n",
    "        predicted_toa = t0 + distance / speed_of_sound\n",
    "        residuals.append(predicted_toa - ti)\n",
    "    return np.sum(np.square(residuals))"
   ]
  },
  {
   "cell_type": "code",
   "execution_count": 10,
   "id": "2628be1b",
   "metadata": {},
   "outputs": [],
   "source": [
    "def localize_gunshot(sensor_positions, toas, speed_of_sound=343.0):\n",
    "    \"\"\"\n",
    "    Localization:\n",
    "    Estimate the source location and emission time given sensor positions and TOAs.\n",
    "\n",
    "    Parameters:\n",
    "        sensor_positions : array [(xi, yi)]\n",
    "            Sensor positions\n",
    "        toas : array [ti]\n",
    "            Time of arrivals corresponding to each sensor\n",
    "        speed_of_sound : float\n",
    "            Speed of sound (m/s)\n",
    "\n",
    "    Returns:\n",
    "        theta : tuple\n",
    "            (x0, y0) - estimated source coordinates\n",
    "            t0 - estimated emission time\n",
    "            Full result object from the optimizer\n",
    "    \"\"\"\n",
    "    sensor_positions = np.array(sensor_positions)\n",
    "    toas = np.array(toas)\n",
    "\n",
    "    # Initialize source location as the mean of the sensor positions\n",
    "    initial_position = np.mean(sensor_positions, axis=0)\n",
    "\n",
    "    min_index = np.argmin(toas)\n",
    "    min_toa = toas[min_index]\n",
    "    sensor_min = sensor_positions[min_index]\n",
    "\n",
    "    initial_distance = np.linalg.norm(initial_position - sensor_min)\n",
    "    initial_t0 = min_toa - initial_distance / speed_of_sound\n",
    "\n",
    "    # Initial guess for [x0, y0, t0]\n",
    "    initial_guess = [initial_position[0], initial_position[1], initial_t0]\n",
    "    \n",
    "    # Optimize the objective function using BFGS.\n",
    "    result = minimize(\n",
    "        objective, \n",
    "        x0=initial_guess, \n",
    "        args=(sensor_positions, toas, speed_of_sound),\n",
    "        method='BFGS'\n",
    "    )\n",
    "    \n",
    "    if result.success:\n",
    "        estimated_x, estimated_y, estimated_t0 = result.x\n",
    "        return (estimated_x, estimated_y), estimated_t0, result\n",
    "    else:\n",
    "        raise RuntimeError(\"Optimization failed: \" + result.message)\n"
   ]
  },
  {
   "cell_type": "code",
   "execution_count": 11,
   "id": "e07dab17",
   "metadata": {},
   "outputs": [
    {
     "name": "stderr",
     "output_type": "stream",
     "text": [
      "/tmp/ipykernel_8940/3025372916.py:25: RuntimeWarning: overflow encountered in scalar power\n",
      "  distance = np.sqrt((x0 - xi)** + (y0 - yi)**2)\n",
      "/home/humphrey/work/trig/trig-env/lib/python3.12/site-packages/scipy/optimize/_numdiff.py:596: RuntimeWarning: invalid value encountered in subtract\n",
      "  df = fun(x1) - f0\n",
      "/tmp/ipykernel_8940/3025372916.py:25: RuntimeWarning: invalid value encountered in scalar power\n",
      "  distance = np.sqrt((x0 - xi)** + (y0 - yi)**2)\n"
     ]
    },
    {
     "ename": "RuntimeError",
     "evalue": "Optimization failed: NaN result encountered.",
     "output_type": "error",
     "traceback": [
      "\u001b[31m---------------------------------------------------------------------------\u001b[39m",
      "\u001b[31mRuntimeError\u001b[39m                              Traceback (most recent call last)",
      "\u001b[36mCell\u001b[39m\u001b[36m \u001b[39m\u001b[32mIn[11]\u001b[39m\u001b[32m, line 26\u001b[39m\n\u001b[32m     23\u001b[39m toas_noisy = toas + np.random.normal(\u001b[32m0\u001b[39m, noise_std, \u001b[38;5;28mlen\u001b[39m(toas))\n\u001b[32m     25\u001b[39m \u001b[38;5;66;03m# Run the localization algorithm\u001b[39;00m\n\u001b[32m---> \u001b[39m\u001b[32m26\u001b[39m estimated_source, estimated_t0, result = \u001b[43mlocalize_gunshot\u001b[49m\u001b[43m(\u001b[49m\u001b[43msensor_positions\u001b[49m\u001b[43m,\u001b[49m\u001b[43m \u001b[49m\u001b[43mtoas_noisy\u001b[49m\u001b[43m,\u001b[49m\u001b[43m \u001b[49m\u001b[43mspeed_of_sound\u001b[49m\u001b[43m)\u001b[49m\n\u001b[32m     28\u001b[39m \u001b[38;5;28mprint\u001b[39m(\u001b[33m\"\u001b[39m\u001b[33mEstimated source location (x, y):\u001b[39m\u001b[33m\"\u001b[39m, estimated_source)\n\u001b[32m     29\u001b[39m \u001b[38;5;28mprint\u001b[39m(\u001b[33m\"\u001b[39m\u001b[33mEstimated emission time (t0):\u001b[39m\u001b[33m\"\u001b[39m, estimated_t0)\n",
      "\u001b[36mCell\u001b[39m\u001b[36m \u001b[39m\u001b[32mIn[10]\u001b[39m\u001b[32m, line 48\u001b[39m, in \u001b[36mlocalize_gunshot\u001b[39m\u001b[34m(sensor_positions, toas, speed_of_sound)\u001b[39m\n\u001b[32m     46\u001b[39m     \u001b[38;5;28;01mreturn\u001b[39;00m (estimated_x, estimated_y), estimated_t0, result\n\u001b[32m     47\u001b[39m \u001b[38;5;28;01melse\u001b[39;00m:\n\u001b[32m---> \u001b[39m\u001b[32m48\u001b[39m     \u001b[38;5;28;01mraise\u001b[39;00m \u001b[38;5;167;01mRuntimeError\u001b[39;00m(\u001b[33m\"\u001b[39m\u001b[33mOptimization failed: \u001b[39m\u001b[33m\"\u001b[39m + result.message)\n",
      "\u001b[31mRuntimeError\u001b[39m: Optimization failed: NaN result encountered."
     ]
    }
   ],
   "source": [
    "# Example sensor positions (in meters)\n",
    "sensor_positions = [\n",
    "    [0.0, 0.0],\n",
    "    [100.0, 0.0],\n",
    "    [0.0, 100.0],\n",
    "    [100.0, 100.0]\n",
    "]\n",
    "\n",
    "# True source location and emission time for simulation purposes\n",
    "true_source = np.array([50.0, 50.0])\n",
    "true_t0 = 0.0  # Emission time in seconds\n",
    "speed_of_sound = 343.0  # in m/s\n",
    "\n",
    "# Compute ideal TOAs at each sensor (without noise)\n",
    "toas = []\n",
    "for sensor in sensor_positions:\n",
    "    distance = np.linalg.norm(true_source - np.array(sensor))\n",
    "    toa = true_t0 + distance / speed_of_sound\n",
    "    toas.append(toa)\n",
    "\n",
    "# Optionally, add Gaussian noise to simulate measurement error.\n",
    "noise_std = 0.01  # standard deviation of noise in seconds\n",
    "toas_noisy = toas + np.random.normal(0, noise_std, len(toas))\n",
    "\n",
    "# Run the localization algorithm\n",
    "estimated_source, estimated_t0, result = localize_gunshot(sensor_positions, toas_noisy, speed_of_sound)\n",
    "\n",
    "print(\"Estimated source location (x, y):\", estimated_source)\n",
    "print(\"Estimated emission time (t0):\", estimated_t0)\n",
    "print(\"\\nOptimization details:\")\n",
    "print(result)"
   ]
  }
 ],
 "metadata": {
  "kernelspec": {
   "display_name": "trig-env (3.12.3)",
   "language": "python",
   "name": "python3"
  },
  "language_info": {
   "codemirror_mode": {
    "name": "ipython",
    "version": 3
   },
   "file_extension": ".py",
   "mimetype": "text/x-python",
   "name": "python",
   "nbconvert_exporter": "python",
   "pygments_lexer": "ipython3",
   "version": "3.12.3"
  }
 },
 "nbformat": 4,
 "nbformat_minor": 5
}
